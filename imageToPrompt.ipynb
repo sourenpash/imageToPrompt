{
 "cells": [
  {
   "cell_type": "code",
   "execution_count": 1,
   "metadata": {},
   "outputs": [
    {
     "name": "stderr",
     "output_type": "stream",
     "text": [
      "c:\\Program Files\\anaconda3\\envs\\alpha\\Lib\\site-packages\\tqdm\\auto.py:21: TqdmWarning: IProgress not found. Please update jupyter and ipywidgets. See https://ipywidgets.readthedocs.io/en/stable/user_install.html\n",
      "  from .autonotebook import tqdm as notebook_tqdm\n"
     ]
    },
    {
     "name": "stdout",
     "output_type": "stream",
     "text": [
      "Loading caption model blip-large...\n",
      "Loading CLIP model ViT-L-14/openai...\n",
      "Loaded CLIP model and data in 13.76 seconds.\n"
     ]
    },
    {
     "name": "stderr",
     "output_type": "stream",
     "text": [
      "100%|██████████| 55/55 [00:00<00:00, 55.13it/s]\n",
      "Flavor chain:  31%|███▏      | 10/32 [08:56<19:39, 53.61s/it]\n",
      "100%|██████████| 55/55 [00:00<00:00, 68.41it/s]\n",
      "100%|██████████| 6/6 [00:00<00:00, 55.56it/s]\n",
      "100%|██████████| 50/50 [00:00<00:00, 68.94it/s]\n"
     ]
    },
    {
     "name": "stdout",
     "output_type": "stream",
     "text": [
      "there is a woman sitting at a table in a room, 3 6 0 capture, inspired by Martin Desjardins, intact humanoid servo, lab, studying in a brightly lit room, lone person in the distance, some trees in the corner, google glass, anthropomorphized, indoors\n"
     ]
    }
   ],
   "source": [
    "from PIL import Image\n",
    "from clip_interrogator import Config, Interrogator\n",
    "image = Image.open('content/frame_4560.png').convert('RGB')\n",
    "ci = Interrogator(Config(clip_model_name=\"ViT-L-14/openai\"))\n",
    "print(ci.interrogate(image))\n"
   ]
  }
 ],
 "metadata": {
  "kernelspec": {
   "display_name": "alpha",
   "language": "python",
   "name": "python3"
  },
  "language_info": {
   "codemirror_mode": {
    "name": "ipython",
    "version": 3
   },
   "file_extension": ".py",
   "mimetype": "text/x-python",
   "name": "python",
   "nbconvert_exporter": "python",
   "pygments_lexer": "ipython3",
   "version": "3.11.4"
  }
 },
 "nbformat": 4,
 "nbformat_minor": 2
}
